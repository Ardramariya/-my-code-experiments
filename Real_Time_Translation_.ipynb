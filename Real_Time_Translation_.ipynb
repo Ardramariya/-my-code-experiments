{
  "nbformat": 4,
  "nbformat_minor": 0,
  "metadata": {
    "colab": {
      "provenance": []
    },
    "kernelspec": {
      "name": "python3",
      "display_name": "Python 3"
    },
    "language_info": {
      "name": "python"
    }
  },
  "cells": [
    {
      "cell_type": "code",
      "source": [
        "!pip install googletrans==3.1.0a0"
      ],
      "metadata": {
        "colab": {
          "base_uri": "https://localhost:8080/"
        },
        "id": "pn40k2G_LlbK",
        "outputId": "e1426cf2-bdba-4666-b3a1-67ac15c9ea71"
      },
      "execution_count": 3,
      "outputs": [
        {
          "output_type": "stream",
          "name": "stdout",
          "text": [
            "Collecting googletrans==3.1.0a0\n",
            "  Downloading googletrans-3.1.0a0.tar.gz (19 kB)\n",
            "  Preparing metadata (setup.py) ... \u001b[?25l\u001b[?25hdone\n",
            "Collecting httpx==0.13.3 (from googletrans==3.1.0a0)\n",
            "  Downloading httpx-0.13.3-py3-none-any.whl.metadata (25 kB)\n",
            "Requirement already satisfied: certifi in /usr/local/lib/python3.11/dist-packages (from httpx==0.13.3->googletrans==3.1.0a0) (2024.12.14)\n",
            "Collecting hstspreload (from httpx==0.13.3->googletrans==3.1.0a0)\n",
            "  Downloading hstspreload-2025.1.1-py3-none-any.whl.metadata (2.1 kB)\n",
            "Requirement already satisfied: sniffio in /usr/local/lib/python3.11/dist-packages (from httpx==0.13.3->googletrans==3.1.0a0) (1.3.1)\n",
            "Collecting chardet==3.* (from httpx==0.13.3->googletrans==3.1.0a0)\n",
            "  Downloading chardet-3.0.4-py2.py3-none-any.whl.metadata (3.2 kB)\n",
            "Collecting idna==2.* (from httpx==0.13.3->googletrans==3.1.0a0)\n",
            "  Downloading idna-2.10-py2.py3-none-any.whl.metadata (9.1 kB)\n",
            "Collecting rfc3986<2,>=1.3 (from httpx==0.13.3->googletrans==3.1.0a0)\n",
            "  Downloading rfc3986-1.5.0-py2.py3-none-any.whl.metadata (6.5 kB)\n",
            "Collecting httpcore==0.9.* (from httpx==0.13.3->googletrans==3.1.0a0)\n",
            "  Downloading httpcore-0.9.1-py3-none-any.whl.metadata (4.6 kB)\n",
            "Collecting h11<0.10,>=0.8 (from httpcore==0.9.*->httpx==0.13.3->googletrans==3.1.0a0)\n",
            "  Downloading h11-0.9.0-py2.py3-none-any.whl.metadata (8.1 kB)\n",
            "Collecting h2==3.* (from httpcore==0.9.*->httpx==0.13.3->googletrans==3.1.0a0)\n",
            "  Downloading h2-3.2.0-py2.py3-none-any.whl.metadata (32 kB)\n",
            "Collecting hyperframe<6,>=5.2.0 (from h2==3.*->httpcore==0.9.*->httpx==0.13.3->googletrans==3.1.0a0)\n",
            "  Downloading hyperframe-5.2.0-py2.py3-none-any.whl.metadata (7.2 kB)\n",
            "Collecting hpack<4,>=3.0 (from h2==3.*->httpcore==0.9.*->httpx==0.13.3->googletrans==3.1.0a0)\n",
            "  Downloading hpack-3.0.0-py2.py3-none-any.whl.metadata (7.0 kB)\n",
            "Downloading httpx-0.13.3-py3-none-any.whl (55 kB)\n",
            "\u001b[2K   \u001b[90m━━━━━━━━━━━━━━━━━━━━━━━━━━━━━━━━━━━━━━━━\u001b[0m \u001b[32m55.1/55.1 kB\u001b[0m \u001b[31m3.5 MB/s\u001b[0m eta \u001b[36m0:00:00\u001b[0m\n",
            "\u001b[?25hDownloading chardet-3.0.4-py2.py3-none-any.whl (133 kB)\n",
            "\u001b[2K   \u001b[90m━━━━━━━━━━━━━━━━━━━━━━━━━━━━━━━━━━━━━━━━\u001b[0m \u001b[32m133.4/133.4 kB\u001b[0m \u001b[31m6.7 MB/s\u001b[0m eta \u001b[36m0:00:00\u001b[0m\n",
            "\u001b[?25hDownloading httpcore-0.9.1-py3-none-any.whl (42 kB)\n",
            "\u001b[2K   \u001b[90m━━━━━━━━━━━━━━━━━━━━━━━━━━━━━━━━━━━━━━━━\u001b[0m \u001b[32m42.6/42.6 kB\u001b[0m \u001b[31m2.8 MB/s\u001b[0m eta \u001b[36m0:00:00\u001b[0m\n",
            "\u001b[?25hDownloading idna-2.10-py2.py3-none-any.whl (58 kB)\n",
            "\u001b[2K   \u001b[90m━━━━━━━━━━━━━━━━━━━━━━━━━━━━━━━━━━━━━━━━\u001b[0m \u001b[32m58.8/58.8 kB\u001b[0m \u001b[31m4.2 MB/s\u001b[0m eta \u001b[36m0:00:00\u001b[0m\n",
            "\u001b[?25hDownloading h2-3.2.0-py2.py3-none-any.whl (65 kB)\n",
            "\u001b[2K   \u001b[90m━━━━━━━━━━━━━━━━━━━━━━━━━━━━━━━━━━━━━━━━\u001b[0m \u001b[32m65.0/65.0 kB\u001b[0m \u001b[31m4.8 MB/s\u001b[0m eta \u001b[36m0:00:00\u001b[0m\n",
            "\u001b[?25hDownloading rfc3986-1.5.0-py2.py3-none-any.whl (31 kB)\n",
            "Downloading hstspreload-2025.1.1-py3-none-any.whl (1.3 MB)\n",
            "\u001b[2K   \u001b[90m━━━━━━━━━━━━━━━━━━━━━━━━━━━━━━━━━━━━━━━━\u001b[0m \u001b[32m1.3/1.3 MB\u001b[0m \u001b[31m30.3 MB/s\u001b[0m eta \u001b[36m0:00:00\u001b[0m\n",
            "\u001b[?25hDownloading h11-0.9.0-py2.py3-none-any.whl (53 kB)\n",
            "\u001b[2K   \u001b[90m━━━━━━━━━━━━━━━━━━━━━━━━━━━━━━━━━━━━━━━━\u001b[0m \u001b[32m53.6/53.6 kB\u001b[0m \u001b[31m3.5 MB/s\u001b[0m eta \u001b[36m0:00:00\u001b[0m\n",
            "\u001b[?25hDownloading hpack-3.0.0-py2.py3-none-any.whl (38 kB)\n",
            "Downloading hyperframe-5.2.0-py2.py3-none-any.whl (12 kB)\n",
            "Building wheels for collected packages: googletrans\n",
            "  Building wheel for googletrans (setup.py) ... \u001b[?25l\u001b[?25hdone\n",
            "  Created wheel for googletrans: filename=googletrans-3.1.0a0-py3-none-any.whl size=16352 sha256=68158420b7358bc4434647117b2a89d16270681dc8d411e33fc606ba51c3cc4f\n",
            "  Stored in directory: /root/.cache/pip/wheels/81/f2/e0/d578821d723b473d18610ea93810e4a5402463919f07e603d9\n",
            "Successfully built googletrans\n",
            "Installing collected packages: rfc3986, hyperframe, hpack, h11, chardet, idna, hstspreload, h2, httpcore, httpx, googletrans\n",
            "  Attempting uninstall: h11\n",
            "    Found existing installation: h11 0.14.0\n",
            "    Uninstalling h11-0.14.0:\n",
            "      Successfully uninstalled h11-0.14.0\n",
            "  Attempting uninstall: chardet\n",
            "    Found existing installation: chardet 5.2.0\n",
            "    Uninstalling chardet-5.2.0:\n",
            "      Successfully uninstalled chardet-5.2.0\n",
            "  Attempting uninstall: idna\n",
            "    Found existing installation: idna 3.10\n",
            "    Uninstalling idna-3.10:\n",
            "      Successfully uninstalled idna-3.10\n",
            "  Attempting uninstall: httpcore\n",
            "    Found existing installation: httpcore 1.0.7\n",
            "    Uninstalling httpcore-1.0.7:\n",
            "      Successfully uninstalled httpcore-1.0.7\n",
            "  Attempting uninstall: httpx\n",
            "    Found existing installation: httpx 0.28.1\n",
            "    Uninstalling httpx-0.28.1:\n",
            "      Successfully uninstalled httpx-0.28.1\n",
            "\u001b[31mERROR: pip's dependency resolver does not currently take into account all the packages that are installed. This behaviour is the source of the following dependency conflicts.\n",
            "langsmith 0.2.10 requires httpx<1,>=0.23.0, but you have httpx 0.13.3 which is incompatible.\n",
            "openai 1.59.6 requires httpx<1,>=0.23.0, but you have httpx 0.13.3 which is incompatible.\u001b[0m\u001b[31m\n",
            "\u001b[0mSuccessfully installed chardet-3.0.4 googletrans-3.1.0a0 h11-0.9.0 h2-3.2.0 hpack-3.0.0 hstspreload-2025.1.1 httpcore-0.9.1 httpx-0.13.3 hyperframe-5.2.0 idna-2.10 rfc3986-1.5.0\n"
          ]
        }
      ]
    },
    {
      "cell_type": "code",
      "source": [
        "from googletrans import Translator"
      ],
      "metadata": {
        "id": "zBaz-F6OLFOd"
      },
      "execution_count": 4,
      "outputs": []
    },
    {
      "cell_type": "code",
      "source": [
        "def translate_text(text, source_lang, target_lang):\n",
        "    translator = Translator()\n",
        "    result = translator.translate(text, src=source_lang, dest=target_lang)\n",
        "    return result.text\n"
      ],
      "metadata": {
        "id": "wk_bDkMRLr13"
      },
      "execution_count": 5,
      "outputs": []
    },
    {
      "cell_type": "code",
      "source": [
        "def main():\n",
        "    text = input(\"Enter the text to translate: \")\n",
        "    source_lang = input(\"Enter the source language code (e.g. en for English): \")\n",
        "    target_lang = input(\"Enter the target language code (e.g. en for English): \")\n",
        "\n",
        "    translated_text = translate_text(text, source_lang, target_lang)\n",
        "    print(f\"Translated text: {translated_text}\")\n"
      ],
      "metadata": {
        "id": "p3YxiqYKLfUY"
      },
      "execution_count": 20,
      "outputs": []
    },
    {
      "cell_type": "code",
      "source": [
        "Language = [\"1. Afrikaans (af)\", \"2. Albanian (sq)\",\"3. Armenian (hy)\",\"4. Azerbaijani (az)\",\"5. Basque (eu)\",\"6. Belarusian (be)\",\"7. Bengali (bn)\",\"8. Bosnian (bs)\",\"9. Bulgarian (bg)\",\"10. Catalan (ca)\",\"11. Croatian (hr)\",\n",
        "\"12. Czech (cs)\",\"13. Danish (da)\",\"14. Dutch (nl)\",\"15. English (en)\",\"16. Esperanto (eo)\",\n",
        "\"17. Estonian (et)\",\"18. Finnish (fi)\",\"19. French (fr)\",\"20. Galician (gl)\", \"21. Georgian (ka)\",\"22. German (de)\",\"23. Greek (el)\"\n",
        "\"24. Gujarati (gu)\",\"25. Hindi (hi)\",\"26. Hungarian (hu)\",\n",
        "\"27. Icelandic (is)\",\"28. Irish (ga)\",\"29. Italian (it)\",\"30. Kannada (kn)\", \"31. Kazakh (kk)\",\"32. Khmer (km)\",\"33. Korean (ko)\",\n",
        "\"34. Kurdish (ku)\",\"35. Kyrgyz (ky)\",\"36. Lao (lo)\",\"37. Latin (la)\",\"38. Latvian (lv)\",\"39. Lithuanian (lt)\",\"40. Luxembourgish (lb)\",\n",
        "\"41. Macedonian (mk)\",\"42. Malay (ms)\",\"43. Malayalam (ml)\",\"44. Maltese (mt)\",\"45. Marathi (mr)\",\"46. Mongolian (mn)\",\"47. Nepali (ne)\",\"48. Norwegian (no)\",\"49. Pashto (ps)\",\n",
        "\"50. Persian (fa)\",\"51. Polish (pl)\",\"52. Portuguese (pt)\",\"53. Punjabi (pa)\",\"54. Romanian (ro)\",\"55. Russian (ru)\",\"56. Sanskrit (sa)\",\"57. Serbian (sr)\",\"58. Sesotho (st)\",\n",
        "\"59. Sinhala (si)\",\"60. Slovak (sk)\",\"61. Slovenian (sl)\",\"62. Somali (so)\",\"63. Spanish (es)\",\"64. Sundanese (su)\",\n",
        "\"65. Swahili (sw)\",\"66. Swedish (sv)\",\"67. Tajik (tg)\",\"68. Tamil (ta)\",\"69. Telugu (te)\",\"70. Thai (th)\",\"71. Turkish (tr)\",\"72. Ukrainian (uk)\",\"73. Urdu (ur)\",\n",
        "\"74. Uzbek (uz)\",\"75. Vietnamese (vi)\",\"76. Welsh (cy)\",\"77. Xhosa (xh)\",\"78. Yiddish (yi)\",\"79. Yoruba (yo)\",\"80. Zulu (zu)\",\"81. Chinese (zh-CN)\",\"82. Tibetan (bo)\",\"83. Hebrew (he)\",\n",
        "\"84. Swahili (sw)\",\"85. Amharic (am)\",\"86. Arabic (ar)\",\"87. Shona (sn)\",\"88. Wolof (wo)\",\"89. Yoruba (yo)\",\"90. Azerbaijani (az)\",\"91. Estonian (et)\",\n",
        "\"92. Finnish (fi)\",\"93. Hungarian (hu)\",\"94. Kazakh (kk)\",\"95. Turkish (tr)\",\"96. Japanese (ja)\",\"97. Korean (ko)\",\"98. Thai (th)\"\n",
        "\"99. Hmong (hmn)\",\"100. Hawaiian (haw)\",\"101. Maori (mi)\",\"102. Malagasy (mg)\"]\n",
        "print(*Language, sep='\\n')\n",
        "\n",
        "if __name__ == \"__main__\":\n",
        "    main()\n",
        "\n"
      ],
      "metadata": {
        "colab": {
          "base_uri": "https://localhost:8080/"
        },
        "id": "6FPOJ1QeL8NH",
        "outputId": "331ee762-3b97-4ac8-f137-afee6c2359e5"
      },
      "execution_count": 21,
      "outputs": [
        {
          "output_type": "stream",
          "name": "stdout",
          "text": [
            "1. Afrikaans (af)\n",
            "2. Albanian (sq)\n",
            "3. Armenian (hy)\n",
            "4. Azerbaijani (az)\n",
            "5. Basque (eu)\n",
            "6. Belarusian (be)\n",
            "7. Bengali (bn)\n",
            "8. Bosnian (bs)\n",
            "9. Bulgarian (bg)\n",
            "10. Catalan (ca)\n",
            "11. Croatian (hr)\n",
            "12. Czech (cs)\n",
            "13. Danish (da)\n",
            "14. Dutch (nl)\n",
            "15. English (en)\n",
            "16. Esperanto (eo)\n",
            "17. Estonian (et)\n",
            "18. Finnish (fi)\n",
            "19. French (fr)\n",
            "20. Galician (gl)\n",
            "21. Georgian (ka)\n",
            "22. German (de)\n",
            "23. Greek (el)24. Gujarati (gu)\n",
            "25. Hindi (hi)\n",
            "26. Hungarian (hu)\n",
            "27. Icelandic (is)\n",
            "28. Irish (ga)\n",
            "29. Italian (it)\n",
            "30. Kannada (kn)\n",
            "31. Kazakh (kk)\n",
            "32. Khmer (km)\n",
            "33. Korean (ko)\n",
            "34. Kurdish (ku)\n",
            "35. Kyrgyz (ky)\n",
            "36. Lao (lo)\n",
            "37. Latin (la)\n",
            "38. Latvian (lv)\n",
            "39. Lithuanian (lt)\n",
            "40. Luxembourgish (lb)\n",
            "41. Macedonian (mk)\n",
            "42. Malay (ms)\n",
            "43. Malayalam (ml)\n",
            "44. Maltese (mt)\n",
            "45. Marathi (mr)\n",
            "46. Mongolian (mn)\n",
            "47. Nepali (ne)\n",
            "48. Norwegian (no)\n",
            "49. Pashto (ps)\n",
            "50. Persian (fa)\n",
            "51. Polish (pl)\n",
            "52. Portuguese (pt)\n",
            "53. Punjabi (pa)\n",
            "54. Romanian (ro)\n",
            "55. Russian (ru)\n",
            "56. Sanskrit (sa)\n",
            "57. Serbian (sr)\n",
            "58. Sesotho (st)\n",
            "59. Sinhala (si)\n",
            "60. Slovak (sk)\n",
            "61. Slovenian (sl)\n",
            "62. Somali (so)\n",
            "63. Spanish (es)\n",
            "64. Sundanese (su)\n",
            "65. Swahili (sw)\n",
            "66. Swedish (sv)\n",
            "67. Tajik (tg)\n",
            "68. Tamil (ta)\n",
            "69. Telugu (te)\n",
            "70. Thai (th)\n",
            "71. Turkish (tr)\n",
            "72. Ukrainian (uk)\n",
            "73. Urdu (ur)\n",
            "74. Uzbek (uz)\n",
            "75. Vietnamese (vi)\n",
            "76. Welsh (cy)\n",
            "77. Xhosa (xh)\n",
            "78. Yiddish (yi)\n",
            "79. Yoruba (yo)\n",
            "80. Zulu (zu)\n",
            "81. Chinese (zh-CN)\n",
            "82. Tibetan (bo)\n",
            "83. Hebrew (he)\n",
            "84. Swahili (sw)\n",
            "85. Amharic (am)\n",
            "86. Arabic (ar)\n",
            "87. Shona (sn)\n",
            "88. Wolof (wo)\n",
            "89. Yoruba (yo)\n",
            "90. Azerbaijani (az)\n",
            "91. Estonian (et)\n",
            "92. Finnish (fi)\n",
            "93. Hungarian (hu)\n",
            "94. Kazakh (kk)\n",
            "95. Turkish (tr)\n",
            "96. Japanese (ja)\n",
            "97. Korean (ko)\n",
            "98. Thai (th)99. Hmong (hmn)\n",
            "100. Hawaiian (haw)\n",
            "101. Maori (mi)\n",
            "102. Malagasy (mg)\n",
            "Enter the text to translate: माझं वाढदिवस आहे\n",
            "Enter the source language code (e.g. en for English): mr\n",
            "Enter the target language code (e.g. en for English): ml\n",
            "Translated text: ഇന്നെൻ്റെ ജന്മദിനമാണ്\n"
          ]
        }
      ]
    },
    {
      "cell_type": "code",
      "source": [],
      "metadata": {
        "id": "Mw6mZ8Z0TLzW"
      },
      "execution_count": null,
      "outputs": []
    }
  ]
}